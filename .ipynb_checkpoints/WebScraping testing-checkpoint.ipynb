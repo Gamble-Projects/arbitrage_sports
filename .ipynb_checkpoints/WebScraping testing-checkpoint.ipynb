{
 "cells": [
  {
   "cell_type": "markdown",
   "metadata": {},
   "source": [
    "## Import Statements"
   ]
  },
  {
   "cell_type": "code",
   "execution_count": 109,
   "metadata": {},
   "outputs": [],
   "source": [
    "from selenium import webdriver\n",
    "from selenium.webdriver.support.ui import WebDriverWait\n",
    "from selenium.webdriver.common.by import By\n",
    "from selenium.webdriver.support import expected_conditions as EC\n",
    "\n",
    "import time\n",
    "from datetime import datetime\n",
    "from dateutil.parser import parse\n",
    "\n",
    "import numpy as np\n",
    "import pandas as pd"
   ]
  },
  {
   "cell_type": "markdown",
   "metadata": {},
   "source": [
    "## Function Definitions"
   ]
  },
  {
   "cell_type": "code",
   "execution_count": 92,
   "metadata": {},
   "outputs": [],
   "source": [
    "def select_shadow_element_by_css(driver, selector):\n",
    "    running_script = 'return document.querySelector(\"{}\").shadowRoot'.format(selector)\n",
    "    element = driver.execute_script(running_script)\n",
    "    return element"
   ]
  },
  {
   "cell_type": "code",
   "execution_count": 93,
   "metadata": {},
   "outputs": [],
   "source": [
    "def expand_shadow_element(driver, element):\n",
    "    shadow_root = driver.execute_script('return arguments[0].shadowRoot', element)\n",
    "    return shadow_root"
   ]
  },
  {
   "cell_type": "code",
   "execution_count": 94,
   "metadata": {},
   "outputs": [],
   "source": [
    "def wait_for_xpath(xpath, timeout=10):\n",
    "    start_time = time.time()\n",
    "    while time.time() < start_time + timeout:\n",
    "        if xpath:\n",
    "            return True\n",
    "        else:\n",
    "            time.sleep(0.1)\n",
    "    raise Exception(\n",
    "        'Timeout waiting for page load'\n",
    "    )"
   ]
  },
  {
   "cell_type": "markdown",
   "metadata": {},
   "source": [
    "## Class Definitions"
   ]
  },
  {
   "cell_type": "code",
   "execution_count": 113,
   "metadata": {},
   "outputs": [],
   "source": [
    "class TSN_selenium:\n",
    "\n",
    "    def __init__(self):\n",
    "        self.driver = webdriver.Chrome(\"C:\\Program Files\\chromedriver_win32\\chromedriver.exe\")\n",
    "        self.home = 'https://www.tsn.ca/'\n",
    "        self.games = {'team1': [], 'team2': [], 'startTime': []}\n",
    "        self.games_df = pd.DataFrame()\n",
    "\n",
    "    def open_home(self):\n",
    "        self.driver.get(self.home)\n",
    "\n",
    "    def get_games(self, league, date=None):\n",
    "        # navigate to schedule webpage\n",
    "        self.driver.get(self.home + '/' + league.lower() + '/schedule')\n",
    "        time.sleep(7)\n",
    "        \n",
    "        # find and expand shadow root\n",
    "        shadow_section_element = self.driver.find_element_by_css_selector('widgets-bms-schedule')\n",
    "        shadow_section = expand_shadow_element(self.driver, shadow_section_element)\n",
    "        \n",
    "        # isolate today's games\n",
    "        today_elem = shadow_section.find_element_by_css_selector('.bms-schedule-details__day')\n",
    "        \n",
    "        # get date from the schedule\n",
    "        dateText = today_elem.find_element_by_css_selector('.bms-schedule-details__day-header').text\n",
    "        print(dateText)\n",
    "        \n",
    "        # get team1, team2, and startTime from all games on the given date\n",
    "        game_elements = []\n",
    "        game_elements = today_elem.find_elements_by_css_selector('.bms-schedule-details__event')\n",
    "        for game in game_elements:\n",
    "            self.games['team1'].append(game.find_element_by_css_selector('.bms-schedule-details__event-team--home').find_element_by_css_selector('.bms-schedule-details__team-name').text.strip())\n",
    "            self.games['team2'].append(game.find_element_by_css_selector('.bms-schedule-details__event-team--away').find_element_by_css_selector('.bms-schedule-details__team-name').text.strip()            )\n",
    "            \n",
    "            startTime = game.find_element_by_css_selector('.bms-schedule-details__event-status').text.strip()\n",
    "            self.games['startTime'].append(' '.join([dateText, startTime]))\n",
    "#             TODO: convert date to datetime object\n",
    "#             games[startTime] = datetime.strptime(startTime, '%A %b %d')\n",
    "                   \n",
    "        # convert dictionary to dataframe for adding betting odds\n",
    "        self.games_df = pd.DataFrame.from_dict(self.games)\n",
    "        print(self.games_df)\n",
    "        \n",
    "    def close_browser(self):\n",
    "        self.driver.close()\n",
    "\n",
    "    def quit(self):\n",
    "        self.driver.quit()\n"
   ]
  },
  {
   "cell_type": "markdown",
   "metadata": {},
   "source": [
    "## Main"
   ]
  },
  {
   "cell_type": "code",
   "execution_count": 114,
   "metadata": {},
   "outputs": [
    {
     "name": "stdout",
     "output_type": "stream",
     "text": [
      "FRIDAY MAR 27\n",
      "         team1          team2          startTime\n",
      "0      Toronto         Boston  FRIDAY MAR 27 PPD\n",
      "1        Miami   Philadelphia  FRIDAY MAR 27 PPD\n",
      "2      Houston    Los Angeles  FRIDAY MAR 27 PPD\n",
      "3      Arizona        Atlanta  FRIDAY MAR 27 PPD\n",
      "4      Oakland      Minnesota  FRIDAY MAR 27 PPD\n",
      "5      Seattle          Texas  FRIDAY MAR 27 PPD\n",
      "6  Los Angeles  San Francisco  FRIDAY MAR 27 PPD\n",
      "7    San Diego       Colorado  FRIDAY MAR 27 PPD\n"
     ]
    }
   ],
   "source": [
    "tsn_se = TSN_selenium()\n",
    "tsn_se.get_games('mlb')\n",
    "tsn_se.quit()"
   ]
  },
  {
   "cell_type": "code",
   "execution_count": null,
   "metadata": {},
   "outputs": [],
   "source": []
  }
 ],
 "metadata": {
  "kernelspec": {
   "display_name": "Python 3",
   "language": "python",
   "name": "python3"
  },
  "language_info": {
   "codemirror_mode": {
    "name": "ipython",
    "version": 3
   },
   "file_extension": ".py",
   "mimetype": "text/x-python",
   "name": "python",
   "nbconvert_exporter": "python",
   "pygments_lexer": "ipython3",
   "version": "3.7.4"
  }
 },
 "nbformat": 4,
 "nbformat_minor": 2
}
